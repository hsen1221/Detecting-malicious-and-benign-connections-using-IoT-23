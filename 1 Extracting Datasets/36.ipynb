{
 "cells": [
  {
   "cell_type": "code",
   "execution_count": 1,
   "id": "7e7213bf-3738-407f-988e-e9053072092b",
   "metadata": {},
   "outputs": [
    {
     "name": "stdout",
     "output_type": "stream",
     "text": [
      "Creating sampled version of 36conn.log.labeled\n",
      "Original size: 1705.03 MB\n",
      "Target size: ~200 MB\n",
      "Sampling ratio: 0.1290\n",
      "\n",
      "Analyzing input file...\n"
     ]
    },
    {
     "name": "stderr",
     "output_type": "stream",
     "text": [
      "Counting lines: 13645107it [00:12, 1089460.47it/s]\n"
     ]
    },
    {
     "name": "stdout",
     "output_type": "stream",
     "text": [
      "\n",
      "Will sample 1,760,627 of 13,645,098 data lines\n",
      "\n",
      "Sampling data lines...\n"
     ]
    },
    {
     "name": "stderr",
     "output_type": "stream",
     "text": [
      "Sampling: 100%|██████████| 13645107/13645107 [00:13<00:00, 1004336.63it/s]\n"
     ]
    },
    {
     "name": "stdout",
     "output_type": "stream",
     "text": [
      "\n",
      "Writing output file...\n",
      "\n",
      "Sampling complete!\n",
      "Output file: sampl36conn.log.labeled\n",
      "Output size: 221.68 MB\n",
      "Lines written: 1,760,627\n",
      "Headers preserved: 9\n"
     ]
    }
   ],
   "source": [
    "import os\n",
    "import random\n",
    "import sys\n",
    "from tqdm import tqdm\n",
    "\n",
    "def create_sampled_zeek_log(input_file, output_file, target_size_mb=200):\n",
    "    \"\"\"\n",
    "    Creates a sampled version of a Zeek conn.log.labeled file that's approximately target_size_mb MB.\n",
    "    \n",
    "    Args:\n",
    "        input_file (str): Path to the large conn.log.labeled file\n",
    "        output_file (str): Path for the output sampled file\n",
    "        target_size_mb (int): Target size in MB (default: 200)\n",
    "        \n",
    "    Returns:\n",
    "        None (writes sampled file to disk)\n",
    "    \"\"\"\n",
    "    # Validate inputs\n",
    "    if not os.path.exists(input_file):\n",
    "        print(f\"Error: Input file '{input_file}' not found!\")\n",
    "        sys.exit(1)\n",
    "        \n",
    "    if os.path.exists(output_file):\n",
    "        print(f\"Warning: Output file '{output_file}' already exists and will be overwritten!\")\n",
    "    \n",
    "    # Convert target size to bytes (with 10% buffer)\n",
    "    target_bytes = int(target_size_mb * 1024 * 1024 * 1.1)\n",
    "    total_bytes = os.path.getsize(input_file)\n",
    "    \n",
    "    # Check if sampling is needed\n",
    "    if total_bytes <= target_bytes:\n",
    "        print(\"Input file is already smaller than target size. Copying as-is.\")\n",
    "        with open(input_file, 'r') as infile, open(output_file, 'w') as outfile:\n",
    "            outfile.writelines(infile)\n",
    "        return\n",
    "    \n",
    "    # Calculate approximate sampling ratio\n",
    "    sample_ratio = target_bytes / total_bytes\n",
    "    \n",
    "    print(f\"Creating sampled version of {input_file}\")\n",
    "    print(f\"Original size: {total_bytes/(1024*1024):.2f} MB\")\n",
    "    print(f\"Target size: ~{target_size_mb} MB\")\n",
    "    print(f\"Sampling ratio: {sample_ratio:.4f}\")\n",
    "    \n",
    "    # First pass: count lines and extract headers\n",
    "    header_lines = []\n",
    "    data_line_count = 0\n",
    "    \n",
    "    print(\"\\nAnalyzing input file...\")\n",
    "    with open(input_file, 'r') as infile:\n",
    "        for line in tqdm(infile, desc=\"Counting lines\"):\n",
    "            if line.startswith('#'):\n",
    "                header_lines.append(line)\n",
    "            else:\n",
    "                data_line_count += 1\n",
    "    \n",
    "    # Calculate number of lines to sample\n",
    "    sample_lines = int(data_line_count * sample_ratio)\n",
    "    print(f\"\\nWill sample {sample_lines:,} of {data_line_count:,} data lines\")\n",
    "    \n",
    "    # Second pass: random sampling\n",
    "    sampled_lines = []\n",
    "    selected_indices = random.sample(range(data_line_count), sample_lines)\n",
    "    selected_indices_set = set(selected_indices)  # For O(1) lookups\n",
    "    \n",
    "    print(\"\\nSampling data lines...\")\n",
    "    current_line = 0\n",
    "    with open(input_file, 'r') as infile:\n",
    "        for line in tqdm(infile, desc=\"Sampling\", total=data_line_count + len(header_lines)):\n",
    "            if not line.startswith('#'):\n",
    "                if current_line in selected_indices_set:\n",
    "                    sampled_lines.append(line)\n",
    "                current_line += 1\n",
    "    \n",
    "    # Write output file\n",
    "    print(\"\\nWriting output file...\")\n",
    "    with open(output_file, 'w') as outfile:\n",
    "        outfile.writelines(header_lines)\n",
    "        outfile.writelines(sampled_lines)\n",
    "    \n",
    "    # Verify output\n",
    "    output_size = os.path.getsize(output_file)\n",
    "    print(f\"\\nSampling complete!\")\n",
    "    print(f\"Output file: {output_file}\")\n",
    "    print(f\"Output size: {output_size/(1024*1024):.2f} MB\")\n",
    "    print(f\"Lines written: {len(sampled_lines):,}\")\n",
    "    print(f\"Headers preserved: {len(header_lines)}\")\n",
    "\n",
    "if __name__ == \"__main__\":\n",
    "    # Example usage (modify these paths)\n",
    "    input_file = \"36conn.log.labeled\"  # Your large input file\n",
    "    output_file = \"sampl36conn.log.labeled\"  # Output file\n",
    "    \n",
    "    create_sampled_zeek_log(input_file, output_file)"
   ]
  },
  {
   "cell_type": "code",
   "execution_count": null,
   "id": "bad112c7-e711-4974-98fb-128d1d9e1798",
   "metadata": {},
   "outputs": [],
   "source": []
  }
 ],
 "metadata": {
  "kernelspec": {
   "display_name": "Python 3 (ipykernel)",
   "language": "python",
   "name": "python3"
  },
  "language_info": {
   "codemirror_mode": {
    "name": "ipython",
    "version": 3
   },
   "file_extension": ".py",
   "mimetype": "text/x-python",
   "name": "python",
   "nbconvert_exporter": "python",
   "pygments_lexer": "ipython3",
   "version": "3.12.7"
  }
 },
 "nbformat": 4,
 "nbformat_minor": 5
}
